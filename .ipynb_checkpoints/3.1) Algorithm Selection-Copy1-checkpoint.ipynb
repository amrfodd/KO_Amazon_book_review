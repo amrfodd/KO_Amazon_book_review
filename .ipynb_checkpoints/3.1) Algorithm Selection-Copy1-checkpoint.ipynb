{
 "cells": [
  {
   "cell_type": "markdown",
   "id": "8e79b41d",
   "metadata": {},
   "source": [
    "### 1) Import libraries\n"
   ]
  },
  {
   "cell_type": "code",
   "execution_count": 1,
   "id": "fe9096b0",
   "metadata": {},
   "outputs": [],
   "source": [
    "import numpy as np\n",
    "import pandas as pd\n",
    "from sklearn.metrics import classification_report, confusion_matrix\n",
    "from sklearn.model_selection import train_test_split\n",
    "\n",
    "from sklearn import svm\n",
    "from sklearn.feature_extraction.text import TfidfVectorizer\n",
    "import pandas as pd\n",
    "import pickle\n",
    "import matplotlib.pyplot as plt\n",
    "import seaborn as sns\n",
    "from sklearn.model_selection import cross_val_score\n",
    "\n",
    "from sklearn.svm import SVC\n",
    "from sklearn.model_selection import StratifiedShuffleSplit\n",
    "from sklearn.model_selection import GridSearchCV\n"
   ]
  },
  {
   "cell_type": "markdown",
   "id": "5339ed37",
   "metadata": {},
   "source": [
    "### 2) Data Loading"
   ]
  },
  {
   "cell_type": "code",
   "execution_count": 2,
   "id": "f88602b0",
   "metadata": {},
   "outputs": [],
   "source": [
    "### Load TF-IDF Vectors\n",
    "\n",
    "with open('Vectors/train_vector.pkl', 'rb') as handle:\n",
    "    X_train = pickle.load(handle)\n",
    "\n",
    "with open('Vectors/test_vector.pkl', 'rb') as handle:\n",
    "    X_test = pickle.load(handle)"
   ]
  },
  {
   "cell_type": "code",
   "execution_count": 3,
   "id": "c3a16451",
   "metadata": {},
   "outputs": [],
   "source": [
    "# ## Load Label Vectors\n",
    "\n",
    "with open('Vectors/train_label.pkl', 'rb') as handle:\n",
    "    y_train = pickle.load(handle)\n",
    "\n",
    "with open('Vectors/test_label.pkl', 'rb') as handle:\n",
    "    y_test = pickle.load(handle)"
   ]
  },
  {
   "cell_type": "markdown",
   "id": "e3a0f02d",
   "metadata": {},
   "source": [
    "## 3) Modeling"
   ]
  },
  {
   "cell_type": "code",
   "execution_count": 5,
   "id": "7e90b286",
   "metadata": {},
   "outputs": [
    {
     "ename": "NameError",
     "evalue": "name 'X_val' is not defined",
     "output_type": "error",
     "traceback": [
      "\u001b[1;31m---------------------------------------------------------------------------\u001b[0m",
      "\u001b[1;31mNameError\u001b[0m                                 Traceback (most recent call last)",
      "Input \u001b[1;32mIn [5]\u001b[0m, in \u001b[0;36m<cell line: 7>\u001b[1;34m()\u001b[0m\n\u001b[0;32m      4\u001b[0m model\u001b[38;5;241m.\u001b[39mfit(X_train, y_train) \n\u001b[0;32m      6\u001b[0m \u001b[38;5;66;03m# print prediction results \u001b[39;00m\n\u001b[1;32m----> 7\u001b[0m predictions \u001b[38;5;241m=\u001b[39m model\u001b[38;5;241m.\u001b[39mpredict(\u001b[43mX_val\u001b[49m) \n\u001b[0;32m      8\u001b[0m \u001b[38;5;28mprint\u001b[39m(classification_report(y_val, predictions))\n",
      "\u001b[1;31mNameError\u001b[0m: name 'X_val' is not defined"
     ]
    }
   ],
   "source": [
    "# train the model on train set without using GridSearchCV \n",
    "\n",
    "model = SVC() \n",
    "model.fit(X_train, y_train) \n",
    "\n",
    "# print prediction results \n",
    "predictions = model.predict(X_val) \n",
    "print(classification_report(y_val, predictions)) "
   ]
  },
  {
   "cell_type": "code",
   "execution_count": 5,
   "id": "13dcea88",
   "metadata": {},
   "outputs": [
    {
     "name": "stdout",
     "output_type": "stream",
     "text": [
      "Fitting 5 folds for each of 12 candidates, totalling 60 fits\n",
      "{'C': 10, 'gamma': 'scale', 'kernel': 'rbf'} 0.8532994923857868\n"
     ]
    }
   ],
   "source": [
    "# defining parameter range \n",
    "\n",
    "    \n",
    "param_grid = {'C': [0.1, 10, 100],  \n",
    "              'gamma': [1, 3, 4, 7, 12], \n",
    "              'gamma':['scale', 'auto'],\n",
    "              'kernel': ['linear', 'rbf']}     \n",
    "    \n",
    "cv = StratifiedShuffleSplit(n_splits=5, test_size=0.2, random_state=42)\n",
    "\n",
    "grid = GridSearchCV(SVC(), param_grid=param_grid, cv=cv, refit = True, verbose = 2,n_jobs=-1)\n",
    "\n",
    "# fitting the model for grid search \n",
    "grid.fit(X_train, y_train) \n",
    "    \n",
    "# print best parameter after tuning \n",
    "\n",
    "print(grid.best_params_, grid.best_score_) \n",
    "\n",
    "grid_validation = grid.predict(X_val) "
   ]
  },
  {
   "cell_type": "code",
   "execution_count": 7,
   "id": "231e4d7f",
   "metadata": {},
   "outputs": [
    {
     "data": {
      "text/html": [
       "<div>\n",
       "<style scoped>\n",
       "    .dataframe tbody tr th:only-of-type {\n",
       "        vertical-align: middle;\n",
       "    }\n",
       "\n",
       "    .dataframe tbody tr th {\n",
       "        vertical-align: top;\n",
       "    }\n",
       "\n",
       "    .dataframe thead th {\n",
       "        text-align: right;\n",
       "    }\n",
       "</style>\n",
       "<table border=\"1\" class=\"dataframe\">\n",
       "  <thead>\n",
       "    <tr style=\"text-align: right;\">\n",
       "      <th></th>\n",
       "      <th>mean_fit_time</th>\n",
       "      <th>std_fit_time</th>\n",
       "      <th>mean_score_time</th>\n",
       "      <th>std_score_time</th>\n",
       "      <th>param_C</th>\n",
       "      <th>param_gamma</th>\n",
       "      <th>param_kernel</th>\n",
       "      <th>params</th>\n",
       "      <th>split0_test_score</th>\n",
       "      <th>split1_test_score</th>\n",
       "      <th>split2_test_score</th>\n",
       "      <th>split3_test_score</th>\n",
       "      <th>split4_test_score</th>\n",
       "      <th>mean_test_score</th>\n",
       "      <th>std_test_score</th>\n",
       "      <th>rank_test_score</th>\n",
       "    </tr>\n",
       "  </thead>\n",
       "  <tbody>\n",
       "    <tr>\n",
       "      <th>5</th>\n",
       "      <td>28.247625</td>\n",
       "      <td>8.712799</td>\n",
       "      <td>2.288888</td>\n",
       "      <td>0.236534</td>\n",
       "      <td>10</td>\n",
       "      <td>scale</td>\n",
       "      <td>rbf</td>\n",
       "      <td>{'C': 10, 'gamma': 'scale', 'kernel': 'rbf'}</td>\n",
       "      <td>0.873096</td>\n",
       "      <td>0.860406</td>\n",
       "      <td>0.840102</td>\n",
       "      <td>0.857868</td>\n",
       "      <td>0.835025</td>\n",
       "      <td>0.853299</td>\n",
       "      <td>0.013939</td>\n",
       "      <td>1</td>\n",
       "    </tr>\n",
       "    <tr>\n",
       "      <th>9</th>\n",
       "      <td>22.133047</td>\n",
       "      <td>7.556421</td>\n",
       "      <td>3.328925</td>\n",
       "      <td>1.476314</td>\n",
       "      <td>100</td>\n",
       "      <td>scale</td>\n",
       "      <td>rbf</td>\n",
       "      <td>{'C': 100, 'gamma': 'scale', 'kernel': 'rbf'}</td>\n",
       "      <td>0.873096</td>\n",
       "      <td>0.860406</td>\n",
       "      <td>0.840102</td>\n",
       "      <td>0.857868</td>\n",
       "      <td>0.835025</td>\n",
       "      <td>0.853299</td>\n",
       "      <td>0.013939</td>\n",
       "      <td>1</td>\n",
       "    </tr>\n",
       "    <tr>\n",
       "      <th>0</th>\n",
       "      <td>22.372593</td>\n",
       "      <td>6.084674</td>\n",
       "      <td>4.582716</td>\n",
       "      <td>2.984083</td>\n",
       "      <td>0.1</td>\n",
       "      <td>scale</td>\n",
       "      <td>linear</td>\n",
       "      <td>{'C': 0.1, 'gamma': 'scale', 'kernel': 'linear'}</td>\n",
       "      <td>0.845178</td>\n",
       "      <td>0.852792</td>\n",
       "      <td>0.819797</td>\n",
       "      <td>0.840102</td>\n",
       "      <td>0.827411</td>\n",
       "      <td>0.837056</td>\n",
       "      <td>0.011948</td>\n",
       "      <td>3</td>\n",
       "    </tr>\n",
       "    <tr>\n",
       "      <th>2</th>\n",
       "      <td>17.986631</td>\n",
       "      <td>5.366110</td>\n",
       "      <td>5.097528</td>\n",
       "      <td>2.846918</td>\n",
       "      <td>0.1</td>\n",
       "      <td>auto</td>\n",
       "      <td>linear</td>\n",
       "      <td>{'C': 0.1, 'gamma': 'auto', 'kernel': 'linear'}</td>\n",
       "      <td>0.845178</td>\n",
       "      <td>0.852792</td>\n",
       "      <td>0.819797</td>\n",
       "      <td>0.840102</td>\n",
       "      <td>0.827411</td>\n",
       "      <td>0.837056</td>\n",
       "      <td>0.011948</td>\n",
       "      <td>3</td>\n",
       "    </tr>\n",
       "    <tr>\n",
       "      <th>11</th>\n",
       "      <td>14.115580</td>\n",
       "      <td>4.321254</td>\n",
       "      <td>3.414424</td>\n",
       "      <td>1.663354</td>\n",
       "      <td>100</td>\n",
       "      <td>auto</td>\n",
       "      <td>rbf</td>\n",
       "      <td>{'C': 100, 'gamma': 'auto', 'kernel': 'rbf'}</td>\n",
       "      <td>0.845178</td>\n",
       "      <td>0.852792</td>\n",
       "      <td>0.819797</td>\n",
       "      <td>0.840102</td>\n",
       "      <td>0.827411</td>\n",
       "      <td>0.837056</td>\n",
       "      <td>0.011948</td>\n",
       "      <td>3</td>\n",
       "    </tr>\n",
       "  </tbody>\n",
       "</table>\n",
       "</div>"
      ],
      "text/plain": [
       "    mean_fit_time  std_fit_time  mean_score_time  std_score_time param_C  \\\n",
       "5       28.247625      8.712799         2.288888        0.236534      10   \n",
       "9       22.133047      7.556421         3.328925        1.476314     100   \n",
       "0       22.372593      6.084674         4.582716        2.984083     0.1   \n",
       "2       17.986631      5.366110         5.097528        2.846918     0.1   \n",
       "11      14.115580      4.321254         3.414424        1.663354     100   \n",
       "\n",
       "   param_gamma param_kernel                                            params  \\\n",
       "5        scale          rbf      {'C': 10, 'gamma': 'scale', 'kernel': 'rbf'}   \n",
       "9        scale          rbf     {'C': 100, 'gamma': 'scale', 'kernel': 'rbf'}   \n",
       "0        scale       linear  {'C': 0.1, 'gamma': 'scale', 'kernel': 'linear'}   \n",
       "2         auto       linear   {'C': 0.1, 'gamma': 'auto', 'kernel': 'linear'}   \n",
       "11        auto          rbf      {'C': 100, 'gamma': 'auto', 'kernel': 'rbf'}   \n",
       "\n",
       "    split0_test_score  split1_test_score  split2_test_score  \\\n",
       "5            0.873096           0.860406           0.840102   \n",
       "9            0.873096           0.860406           0.840102   \n",
       "0            0.845178           0.852792           0.819797   \n",
       "2            0.845178           0.852792           0.819797   \n",
       "11           0.845178           0.852792           0.819797   \n",
       "\n",
       "    split3_test_score  split4_test_score  mean_test_score  std_test_score  \\\n",
       "5            0.857868           0.835025         0.853299        0.013939   \n",
       "9            0.857868           0.835025         0.853299        0.013939   \n",
       "0            0.840102           0.827411         0.837056        0.011948   \n",
       "2            0.840102           0.827411         0.837056        0.011948   \n",
       "11           0.840102           0.827411         0.837056        0.011948   \n",
       "\n",
       "    rank_test_score  \n",
       "5                 1  \n",
       "9                 1  \n",
       "0                 3  \n",
       "2                 3  \n",
       "11                3  "
      ]
     },
     "execution_count": 7,
     "metadata": {},
     "output_type": "execute_result"
    }
   ],
   "source": [
    "# Best fitted models \n",
    "import pandas as pd\n",
    "results = pd.DataFrame(grid.cv_results_)\n",
    "results.sort_values(by='rank_test_score', inplace=True)\n",
    "results.head()"
   ]
  },
  {
   "cell_type": "code",
   "execution_count": 8,
   "id": "76643979",
   "metadata": {},
   "outputs": [],
   "source": [
    "model = SVC(C = 10, gamma = 'scale', kernel = 'rbf') \n",
    "model.fit(X_train, y_train) \n",
    "\n",
    "# print prediction results \n",
    "val_predictions = model.predict(X_val) "
   ]
  },
  {
   "cell_type": "code",
   "execution_count": 9,
   "id": "6444a287",
   "metadata": {},
   "outputs": [
    {
     "name": "stdout",
     "output_type": "stream",
     "text": [
      "              precision    recall  f1-score   support\n",
      "\n",
      "           0       0.89      0.90      0.90        52\n",
      "           1       0.93      0.79      0.86        90\n",
      "           2       0.81      0.91      0.86       104\n",
      "\n",
      "    accuracy                           0.87       246\n",
      "   macro avg       0.88      0.87      0.87       246\n",
      "weighted avg       0.87      0.87      0.87       246\n",
      "\n"
     ]
    }
   ],
   "source": [
    "# print classification report \n",
    "print(classification_report(y_val, val_predictions)) "
   ]
  },
  {
   "cell_type": "code",
   "execution_count": 11,
   "id": "1406fd4f",
   "metadata": {},
   "outputs": [
    {
     "data": {
      "text/html": [
       "<div>\n",
       "<style scoped>\n",
       "    .dataframe tbody tr th:only-of-type {\n",
       "        vertical-align: middle;\n",
       "    }\n",
       "\n",
       "    .dataframe tbody tr th {\n",
       "        vertical-align: top;\n",
       "    }\n",
       "\n",
       "    .dataframe thead th {\n",
       "        text-align: right;\n",
       "    }\n",
       "</style>\n",
       "<table border=\"1\" class=\"dataframe\">\n",
       "  <thead>\n",
       "    <tr style=\"text-align: right;\">\n",
       "      <th></th>\n",
       "      <th>precision</th>\n",
       "      <th>recall</th>\n",
       "      <th>f1-score</th>\n",
       "      <th>support</th>\n",
       "    </tr>\n",
       "  </thead>\n",
       "  <tbody>\n",
       "    <tr>\n",
       "      <th>0</th>\n",
       "      <td>0.886792</td>\n",
       "      <td>0.903846</td>\n",
       "      <td>0.895238</td>\n",
       "      <td>52.000000</td>\n",
       "    </tr>\n",
       "    <tr>\n",
       "      <th>1</th>\n",
       "      <td>0.934211</td>\n",
       "      <td>0.788889</td>\n",
       "      <td>0.855422</td>\n",
       "      <td>90.000000</td>\n",
       "    </tr>\n",
       "    <tr>\n",
       "      <th>2</th>\n",
       "      <td>0.811966</td>\n",
       "      <td>0.913462</td>\n",
       "      <td>0.859729</td>\n",
       "      <td>104.000000</td>\n",
       "    </tr>\n",
       "    <tr>\n",
       "      <th>accuracy</th>\n",
       "      <td>0.865854</td>\n",
       "      <td>0.865854</td>\n",
       "      <td>0.865854</td>\n",
       "      <td>0.865854</td>\n",
       "    </tr>\n",
       "    <tr>\n",
       "      <th>macro avg</th>\n",
       "      <td>0.877656</td>\n",
       "      <td>0.868732</td>\n",
       "      <td>0.870129</td>\n",
       "      <td>246.000000</td>\n",
       "    </tr>\n",
       "    <tr>\n",
       "      <th>weighted avg</th>\n",
       "      <td>0.872507</td>\n",
       "      <td>0.865854</td>\n",
       "      <td>0.865659</td>\n",
       "      <td>246.000000</td>\n",
       "    </tr>\n",
       "  </tbody>\n",
       "</table>\n",
       "</div>"
      ],
      "text/plain": [
       "              precision    recall  f1-score     support\n",
       "0              0.886792  0.903846  0.895238   52.000000\n",
       "1              0.934211  0.788889  0.855422   90.000000\n",
       "2              0.811966  0.913462  0.859729  104.000000\n",
       "accuracy       0.865854  0.865854  0.865854    0.865854\n",
       "macro avg      0.877656  0.868732  0.870129  246.000000\n",
       "weighted avg   0.872507  0.865854  0.865659  246.000000"
      ]
     },
     "execution_count": 11,
     "metadata": {},
     "output_type": "execute_result"
    }
   ],
   "source": [
    "report = classification_report(y_val, val_predictions, output_dict=True)\n",
    "df = pd.DataFrame(report).transpose()\n",
    "df"
   ]
  },
  {
   "cell_type": "code",
   "execution_count": 18,
   "id": "94e199ad",
   "metadata": {},
   "outputs": [
    {
     "data": {
      "image/png": "[encoded data removed]",
      "text/plain": [
       "<Figure size 1080x504 with 2 Axes>"
      ]
     },
     "metadata": {
      "needs_background": "light"
     },
     "output_type": "display_data"
    }
   ],
   "source": [
    "#  visualize confusion matrix\n",
    "\n",
    "labels = ['Engineering', 'Startups & Business', 'Product & Design']\n",
    "\n",
    "conf_mat = confusion_matrix(y_val, val_predictions)\n",
    "fig, ax = plt.subplots(figsize=(15,7))\n",
    "sns.heatmap(conf_mat, annot=True, fmt='d',\n",
    "            xticklabels=labels, yticklabels=labels)\n",
    "plt.ylabel('Actual')\n",
    "plt.xlabel('Predicted')\n",
    "plt.show()"
   ]
  },
  {
   "cell_type": "code",
   "execution_count": 20,
   "id": "69ed9752",
   "metadata": {},
   "outputs": [],
   "source": [
    "#  save model\n",
    "filename = '../models/SVM_model.sav'\n",
    "pickle.dump(model, open(filename, 'wb'))"
   ]
  }
 ],
 "metadata": {
  "kernelspec": {
   "display_name": "Python 3 (ipykernel)",
   "language": "python",
   "name": "python3"
  },
  "language_info": {
   "codemirror_mode": {
    "name": "ipython",
    "version": 3
   },
   "file_extension": ".py",
   "mimetype": "text/x-python",
   "name": "python",
   "nbconvert_exporter": "python",
   "pygments_lexer": "ipython3",
   "version": "3.9.12"
  }
 },
 "nbformat": 4,
 "nbformat_minor": 5
}
