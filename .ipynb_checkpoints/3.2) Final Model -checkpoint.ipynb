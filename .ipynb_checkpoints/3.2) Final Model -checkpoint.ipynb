{
 "cells": [
  {
   "cell_type": "markdown",
   "id": "c2d11a44",
   "metadata": {},
   "source": [
    "# Articles Recommendation Categorization\n",
    "\n",
    "Recommending web articles for the learners for different study programs"
   ]
  },
  {
   "cell_type": "markdown",
   "id": "8e79b41d",
   "metadata": {},
   "source": [
    "### 1) Import libraries\n"
   ]
  },
  {
   "cell_type": "code",
   "execution_count": 4,
   "id": "fe9096b0",
   "metadata": {},
   "outputs": [],
   "source": [
    "import numpy as np\n",
    "import pandas as pd\n",
    "from sklearn.metrics import classification_report, confusion_matrix\n",
    "from sklearn.model_selection import train_test_split\n",
    "\n",
    "from sklearn import svm\n",
    "from sklearn.feature_extraction.text import TfidfVectorizer\n",
    "import pandas as pd\n",
    "import pickle\n",
    "import matplotlib.pyplot as plt\n",
    "import seaborn as sns\n",
    "from sklearn.model_selection import cross_val_score\n",
    "\n",
    "from sklearn.naive_bayes import MultinomialNB\n",
    "\n",
    "from sklearn.model_selection import StratifiedShuffleSplit\n",
    "from sklearn.model_selection import GridSearchCV\n",
    "\n",
    "import time"
   ]
  },
  {
   "cell_type": "markdown",
   "id": "5339ed37",
   "metadata": {},
   "source": [
    "### 2) Data Loading"
   ]
  },
  {
   "cell_type": "code",
   "execution_count": 2,
   "id": "f88602b0",
   "metadata": {},
   "outputs": [],
   "source": [
    "### Load TF-IDF Vectors\n",
    "\n",
    "with open('../Vectors/train_vector.pkl', 'rb') as handle:\n",
    "    X_train = pickle.load(handle)\n",
    "\n",
    "with open('../Vectors/val_vector.pkl', 'rb') as handle:\n",
    "    X_val = pickle.load(handle)\n",
    "\n",
    "with open('../Vectors/test_vector.pkl', 'rb') as handle:\n",
    "    X_test = pickle.load(handle)"
   ]
  },
  {
   "cell_type": "code",
   "execution_count": 3,
   "id": "c3a16451",
   "metadata": {},
   "outputs": [],
   "source": [
    "# ## Load Label Vectors\n",
    "\n",
    "with open('../Vectors/train_label.pkl', 'rb') as handle:\n",
    "    y_train = pickle.load(handle)\n",
    "\n",
    "with open('../Vectors/val_label.pkl', 'rb') as handle:\n",
    "    y_val = pickle.load(handle)\n",
    "\n",
    "with open('../Vectors/test_label.pkl', 'rb') as handle:\n",
    "    y_test = pickle.load(handle)"
   ]
  },
  {
   "cell_type": "markdown",
   "id": "e3a0f02d",
   "metadata": {},
   "source": [
    "## 3) Modeling"
   ]
  },
  {
   "cell_type": "code",
   "execution_count": 10,
   "id": "edbfdcbc",
   "metadata": {},
   "outputs": [],
   "source": [
    "# Fitting classifier to the Training set\n",
    "\n",
    "# Start time\n",
    "start = time.time()\n",
    "classifier = MultinomialNB()\n",
    "\n",
    "classifier.fit(X_train , y_train)\n",
    "\n",
    "# End time\n",
    "end = time.time()"
   ]
  },
  {
   "cell_type": "code",
   "execution_count": 12,
   "id": "0a96b45d",
   "metadata": {},
   "outputs": [
    {
     "name": "stdout",
     "output_type": "stream",
     "text": [
      "The computation time is 16 ms\n"
     ]
    }
   ],
   "source": [
    "# Computation time\n",
    "result = end - start\n",
    "result = int(round(result * 1000))\n",
    "\n",
    "print(\"The computation time is {} ms\".format(result))"
   ]
  },
  {
   "cell_type": "code",
   "execution_count": 13,
   "id": "3165fc23",
   "metadata": {},
   "outputs": [
    {
     "name": "stdout",
     "output_type": "stream",
     "text": [
      "Fitting 5 folds for each of 6 candidates, totalling 30 fits\n"
     ]
    },
    {
     "data": {
      "text/plain": [
       "GridSearchCV(cv=StratifiedShuffleSplit(n_splits=5, random_state=42, test_size=0.2,\n",
       "            train_size=None),\n",
       "             estimator=MultinomialNB(), n_jobs=-1,\n",
       "             param_grid={'alpha': (1, 0.1, 0.01, 0.001, 0.0001, 1e-05)},\n",
       "             verbose=2)"
      ]
     },
     "execution_count": 13,
     "metadata": {},
     "output_type": "execute_result"
    }
   ],
   "source": [
    "# Using gridSeacrchCV ro get best parameters\n",
    "\n",
    "# defining parameter range \n",
    "start = time.time()\n",
    "\n",
    "param_grid = {  \n",
    "'alpha': (1, 0.1, 0.01, 0.001, 0.0001, 0.00001)  \n",
    "}  \n",
    "    \n",
    "cv = StratifiedShuffleSplit(n_splits=5, test_size=0.2, random_state=42)\n",
    "\n",
    "grid = GridSearchCV(classifier, param_grid=param_grid, cv=cv, refit = True, verbose = 2,n_jobs=-1)\n",
    "\n",
    "# fitting the model for grid search \n",
    "grid.fit(X_train, y_train) \n",
    "\n",
    "\n",
    "# End time\n",
    "end = time.time()"
   ]
  },
  {
   "cell_type": "code",
   "execution_count": 14,
   "id": "2fcb025b",
   "metadata": {},
   "outputs": [
    {
     "name": "stdout",
     "output_type": "stream",
     "text": [
      "The computation time is 16000 ms\n"
     ]
    }
   ],
   "source": [
    "# Computation time\n",
    "CVresult = end - start\n",
    "CVresult = int(round(result * 1000))\n",
    "\n",
    "print(\"The computation time is {} ms\".format(CVresult))"
   ]
  },
  {
   "cell_type": "code",
   "execution_count": 15,
   "id": "a3232f35",
   "metadata": {},
   "outputs": [
    {
     "name": "stdout",
     "output_type": "stream",
     "text": [
      "{'alpha': 1} 0.8631884057971014\n"
     ]
    }
   ],
   "source": [
    " # print best parameter after tuning \n",
    "\n",
    "print(grid.best_params_, grid.best_score_) \n",
    "\n",
    "grid_validation = grid.predict(X_val) "
   ]
  },
  {
   "cell_type": "code",
   "execution_count": 16,
   "id": "e044cc43",
   "metadata": {},
   "outputs": [
    {
     "data": {
      "text/html": [
       "<div>\n",
       "<style scoped>\n",
       "    .dataframe tbody tr th:only-of-type {\n",
       "        vertical-align: middle;\n",
       "    }\n",
       "\n",
       "    .dataframe tbody tr th {\n",
       "        vertical-align: top;\n",
       "    }\n",
       "\n",
       "    .dataframe thead th {\n",
       "        text-align: right;\n",
       "    }\n",
       "</style>\n",
       "<table border=\"1\" class=\"dataframe\">\n",
       "  <thead>\n",
       "    <tr style=\"text-align: right;\">\n",
       "      <th></th>\n",
       "      <th>mean_fit_time</th>\n",
       "      <th>std_fit_time</th>\n",
       "      <th>mean_score_time</th>\n",
       "      <th>std_score_time</th>\n",
       "      <th>param_alpha</th>\n",
       "      <th>params</th>\n",
       "      <th>split0_test_score</th>\n",
       "      <th>split1_test_score</th>\n",
       "      <th>split2_test_score</th>\n",
       "      <th>split3_test_score</th>\n",
       "      <th>split4_test_score</th>\n",
       "      <th>mean_test_score</th>\n",
       "      <th>std_test_score</th>\n",
       "      <th>rank_test_score</th>\n",
       "    </tr>\n",
       "  </thead>\n",
       "  <tbody>\n",
       "    <tr>\n",
       "      <th>0</th>\n",
       "      <td>0.032560</td>\n",
       "      <td>0.004450</td>\n",
       "      <td>0.003989</td>\n",
       "      <td>0.003397</td>\n",
       "      <td>1</td>\n",
       "      <td>{'alpha': 1}</td>\n",
       "      <td>0.846377</td>\n",
       "      <td>0.863768</td>\n",
       "      <td>0.875362</td>\n",
       "      <td>0.884058</td>\n",
       "      <td>0.846377</td>\n",
       "      <td>0.863188</td>\n",
       "      <td>0.015161</td>\n",
       "      <td>1</td>\n",
       "    </tr>\n",
       "    <tr>\n",
       "      <th>1</th>\n",
       "      <td>0.045766</td>\n",
       "      <td>0.013246</td>\n",
       "      <td>0.011122</td>\n",
       "      <td>0.006293</td>\n",
       "      <td>0.1</td>\n",
       "      <td>{'alpha': 0.1}</td>\n",
       "      <td>0.852174</td>\n",
       "      <td>0.843478</td>\n",
       "      <td>0.866667</td>\n",
       "      <td>0.878261</td>\n",
       "      <td>0.852174</td>\n",
       "      <td>0.858551</td>\n",
       "      <td>0.012352</td>\n",
       "      <td>2</td>\n",
       "    </tr>\n",
       "    <tr>\n",
       "      <th>2</th>\n",
       "      <td>0.037318</td>\n",
       "      <td>0.003441</td>\n",
       "      <td>0.007855</td>\n",
       "      <td>0.001746</td>\n",
       "      <td>0.01</td>\n",
       "      <td>{'alpha': 0.01}</td>\n",
       "      <td>0.855072</td>\n",
       "      <td>0.846377</td>\n",
       "      <td>0.857971</td>\n",
       "      <td>0.866667</td>\n",
       "      <td>0.849275</td>\n",
       "      <td>0.855072</td>\n",
       "      <td>0.007100</td>\n",
       "      <td>3</td>\n",
       "    </tr>\n",
       "    <tr>\n",
       "      <th>3</th>\n",
       "      <td>0.048110</td>\n",
       "      <td>0.018423</td>\n",
       "      <td>0.009551</td>\n",
       "      <td>0.004655</td>\n",
       "      <td>0.001</td>\n",
       "      <td>{'alpha': 0.001}</td>\n",
       "      <td>0.852174</td>\n",
       "      <td>0.828986</td>\n",
       "      <td>0.834783</td>\n",
       "      <td>0.866667</td>\n",
       "      <td>0.852174</td>\n",
       "      <td>0.846957</td>\n",
       "      <td>0.013521</td>\n",
       "      <td>4</td>\n",
       "    </tr>\n",
       "    <tr>\n",
       "      <th>4</th>\n",
       "      <td>0.030897</td>\n",
       "      <td>0.006119</td>\n",
       "      <td>0.007765</td>\n",
       "      <td>0.007457</td>\n",
       "      <td>0.0001</td>\n",
       "      <td>{'alpha': 0.0001}</td>\n",
       "      <td>0.837681</td>\n",
       "      <td>0.814493</td>\n",
       "      <td>0.823188</td>\n",
       "      <td>0.855072</td>\n",
       "      <td>0.857971</td>\n",
       "      <td>0.837681</td>\n",
       "      <td>0.017099</td>\n",
       "      <td>5</td>\n",
       "    </tr>\n",
       "  </tbody>\n",
       "</table>\n",
       "</div>"
      ],
      "text/plain": [
       "   mean_fit_time  std_fit_time  mean_score_time  std_score_time param_alpha  \\\n",
       "0       0.032560      0.004450         0.003989        0.003397           1   \n",
       "1       0.045766      0.013246         0.011122        0.006293         0.1   \n",
       "2       0.037318      0.003441         0.007855        0.001746        0.01   \n",
       "3       0.048110      0.018423         0.009551        0.004655       0.001   \n",
       "4       0.030897      0.006119         0.007765        0.007457      0.0001   \n",
       "\n",
       "              params  split0_test_score  split1_test_score  split2_test_score  \\\n",
       "0       {'alpha': 1}           0.846377           0.863768           0.875362   \n",
       "1     {'alpha': 0.1}           0.852174           0.843478           0.866667   \n",
       "2    {'alpha': 0.01}           0.855072           0.846377           0.857971   \n",
       "3   {'alpha': 0.001}           0.852174           0.828986           0.834783   \n",
       "4  {'alpha': 0.0001}           0.837681           0.814493           0.823188   \n",
       "\n",
       "   split3_test_score  split4_test_score  mean_test_score  std_test_score  \\\n",
       "0           0.884058           0.846377         0.863188        0.015161   \n",
       "1           0.878261           0.852174         0.858551        0.012352   \n",
       "2           0.866667           0.849275         0.855072        0.007100   \n",
       "3           0.866667           0.852174         0.846957        0.013521   \n",
       "4           0.855072           0.857971         0.837681        0.017099   \n",
       "\n",
       "   rank_test_score  \n",
       "0                1  \n",
       "1                2  \n",
       "2                3  \n",
       "3                4  \n",
       "4                5  "
      ]
     },
     "execution_count": 16,
     "metadata": {},
     "output_type": "execute_result"
    }
   ],
   "source": [
    "# Best fitted models \n",
    "import pandas as pd\n",
    "results = pd.DataFrame(grid.cv_results_)\n",
    "results.sort_values(by='rank_test_score', inplace=True)\n",
    "results.head()"
   ]
  },
  {
   "cell_type": "code",
   "execution_count": 17,
   "id": "5b9f684e",
   "metadata": {},
   "outputs": [],
   "source": [
    "best_model = MultinomialNB(alpha = 1) \n",
    "best_model.fit(X_train, y_train) \n",
    "\n",
    "# print prediction results \n",
    "val_predictions = best_model.predict(X_val) \n",
    "\n"
   ]
  },
  {
   "cell_type": "code",
   "execution_count": 18,
   "id": "4e5108a6",
   "metadata": {},
   "outputs": [
    {
     "name": "stdout",
     "output_type": "stream",
     "text": [
      "              precision    recall  f1-score   support\n",
      "\n",
      "           0       0.94      0.92      0.93       116\n",
      "           1       0.83      0.81      0.82       178\n",
      "           2       0.83      0.86      0.85       223\n",
      "\n",
      "    accuracy                           0.86       517\n",
      "   macro avg       0.87      0.86      0.87       517\n",
      "weighted avg       0.86      0.86      0.86       517\n",
      "\n"
     ]
    }
   ],
   "source": [
    "# print classification report \n",
    "print(classification_report(y_val, val_predictions))"
   ]
  },
  {
   "cell_type": "code",
   "execution_count": 19,
   "id": "299980be",
   "metadata": {},
   "outputs": [
    {
     "data": {
      "text/html": [
       "<div>\n",
       "<style scoped>\n",
       "    .dataframe tbody tr th:only-of-type {\n",
       "        vertical-align: middle;\n",
       "    }\n",
       "\n",
       "    .dataframe tbody tr th {\n",
       "        vertical-align: top;\n",
       "    }\n",
       "\n",
       "    .dataframe thead th {\n",
       "        text-align: right;\n",
       "    }\n",
       "</style>\n",
       "<table border=\"1\" class=\"dataframe\">\n",
       "  <thead>\n",
       "    <tr style=\"text-align: right;\">\n",
       "      <th></th>\n",
       "      <th>precision</th>\n",
       "      <th>recall</th>\n",
       "      <th>f1-score</th>\n",
       "      <th>support</th>\n",
       "    </tr>\n",
       "  </thead>\n",
       "  <tbody>\n",
       "    <tr>\n",
       "      <th>0</th>\n",
       "      <td>0.938596</td>\n",
       "      <td>0.922414</td>\n",
       "      <td>0.930435</td>\n",
       "      <td>116.000000</td>\n",
       "    </tr>\n",
       "    <tr>\n",
       "      <th>1</th>\n",
       "      <td>0.832370</td>\n",
       "      <td>0.808989</td>\n",
       "      <td>0.820513</td>\n",
       "      <td>178.000000</td>\n",
       "    </tr>\n",
       "    <tr>\n",
       "      <th>2</th>\n",
       "      <td>0.834783</td>\n",
       "      <td>0.860987</td>\n",
       "      <td>0.847682</td>\n",
       "      <td>223.000000</td>\n",
       "    </tr>\n",
       "    <tr>\n",
       "      <th>accuracy</th>\n",
       "      <td>0.856867</td>\n",
       "      <td>0.856867</td>\n",
       "      <td>0.856867</td>\n",
       "      <td>0.856867</td>\n",
       "    </tr>\n",
       "    <tr>\n",
       "      <th>macro avg</th>\n",
       "      <td>0.868583</td>\n",
       "      <td>0.864130</td>\n",
       "      <td>0.866210</td>\n",
       "      <td>517.000000</td>\n",
       "    </tr>\n",
       "    <tr>\n",
       "      <th>weighted avg</th>\n",
       "      <td>0.857245</td>\n",
       "      <td>0.856867</td>\n",
       "      <td>0.856895</td>\n",
       "      <td>517.000000</td>\n",
       "    </tr>\n",
       "  </tbody>\n",
       "</table>\n",
       "</div>"
      ],
      "text/plain": [
       "              precision    recall  f1-score     support\n",
       "0              0.938596  0.922414  0.930435  116.000000\n",
       "1              0.832370  0.808989  0.820513  178.000000\n",
       "2              0.834783  0.860987  0.847682  223.000000\n",
       "accuracy       0.856867  0.856867  0.856867    0.856867\n",
       "macro avg      0.868583  0.864130  0.866210  517.000000\n",
       "weighted avg   0.857245  0.856867  0.856895  517.000000"
      ]
     },
     "execution_count": 19,
     "metadata": {},
     "output_type": "execute_result"
    }
   ],
   "source": [
    "report = classification_report(y_val, val_predictions, output_dict=True)\n",
    "df = pd.DataFrame(report).transpose()\n",
    "df"
   ]
  },
  {
   "cell_type": "code",
   "execution_count": 20,
   "id": "ae084b03",
   "metadata": {},
   "outputs": [
    {
     "data": {
      "image/png": "[encoded data removed]",
      "text/plain": [
       "<Figure size 1080x504 with 2 Axes>"
      ]
     },
     "metadata": {
      "needs_background": "light"
     },
     "output_type": "display_data"
    }
   ],
   "source": [
    "#  visualize confusion matrix\n",
    "\n",
    "labels = ['Engineering', 'Startups & Business', 'Product & Design']\n",
    "\n",
    "conf_mat = confusion_matrix(y_val, val_predictions)\n",
    "fig, ax = plt.subplots(figsize=(15,7))\n",
    "sns.heatmap(conf_mat, annot=True, fmt='d',\n",
    "            xticklabels=labels, yticklabels=labels)\n",
    "plt.ylabel('Actual')\n",
    "plt.xlabel('Predicted')\n",
    "plt.show()"
   ]
  },
  {
   "cell_type": "code",
   "execution_count": 22,
   "id": "c0d0eb7c",
   "metadata": {},
   "outputs": [],
   "source": [
    "#  save model\n",
    "filename = '../models/MNB_model.sav'\n",
    "pickle.dump(best_model, open(filename, 'wb'))"
   ]
  }
 ],
 "metadata": {
  "kernelspec": {
   "display_name": "Python 3 (ipykernel)",
   "language": "python",
   "name": "python3"
  },
  "language_info": {
   "codemirror_mode": {
    "name": "ipython",
    "version": 3
   },
   "file_extension": ".py",
   "mimetype": "text/x-python",
   "name": "python",
   "nbconvert_exporter": "python",
   "pygments_lexer": "ipython3",
   "version": "3.9.12"
  }
 },
 "nbformat": 4,
 "nbformat_minor": 5
}
